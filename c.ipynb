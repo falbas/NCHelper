{
 "cells": [
  {
   "cell_type": "code",
   "execution_count": 1,
   "metadata": {},
   "outputs": [],
   "source": [
    "from NCHelper import NCHelper\n",
    "from datetime import datetime, timedelta\n",
    "import xarray as xr\n",
    "import numpy as np\n",
    "import rasterio\n",
    "from rasterio.crs import CRS\n",
    "import time\n",
    "import os\n",
    "import shutil"
   ]
  },
  {
   "cell_type": "code",
   "execution_count": 2,
   "metadata": {},
   "outputs": [
    {
     "name": "stdout",
     "output_type": "stream",
     "text": [
      "reading dataset...\n",
      "reading dataset done\n"
     ]
    },
    {
     "name": "stderr",
     "output_type": "stream",
     "text": [
      "c:\\Users\\falbas\\miniconda3\\Lib\\site-packages\\xarray\\coding\\times.py:167: SerializationWarning: Ambiguous reference date string: 1-1-1 00:00:0.0. The first value is assumed to be the year hence will be padded with zeros to remove the ambiguity (the padded reference date string is: 0001-1-1 00:00:0.0). To remove this message, remove the ambiguity by padding your reference date strings with zeros.\n",
      "  warnings.warn(warning_msg, SerializationWarning)\n"
     ]
    }
   ],
   "source": [
    "date_str = \"2023110800\"\n",
    "ds = f\"http://182.16.248.173:8080/dods/INA-NWP/{date_str}/{date_str}-d01-asim\"\n",
    "# ds = \"sample\\indonesia-20230901-20230907.nc\"\n",
    "\n",
    "nch = NCHelper(ds)"
   ]
  },
  {
   "cell_type": "code",
   "execution_count": 3,
   "metadata": {},
   "outputs": [],
   "source": [
    "lat = nch.ds['lat']\n",
    "lon = nch.ds['lon']\n",
    "u = nch.ds['u']\n",
    "v = nch.ds['v']\n",
    "tc = nch.ds['tc']"
   ]
  },
  {
   "cell_type": "code",
   "execution_count": 4,
   "metadata": {},
   "outputs": [
    {
     "name": "stdout",
     "output_type": "stream",
     "text": [
      "generating tc1 geotiff images...\n"
     ]
    }
   ],
   "source": [
    "# nch.nc2tif(u, 'u', lat, lon)\n",
    "# nch.nc2tif(v, 'v', lat, lon)\n",
    "nch.nc2tif(tc[0][0], 'tc1', x_dim='lon', y_dim='lat')"
   ]
  },
  {
   "cell_type": "code",
   "execution_count": 5,
   "metadata": {},
   "outputs": [],
   "source": [
    "nch.nc2tif2(tc[0][0].values, 'tc2', lat.values, lon.values)"
   ]
  },
  {
   "cell_type": "code",
   "execution_count": 8,
   "metadata": {},
   "outputs": [
    {
     "name": "stdout",
     "output_type": "stream",
     "text": [
      "generating tc1 rgb geotif images...\n",
      "output: d:/Kuliah/MBKM/PKKM BMKG/NCHelper/tc1_rgb.tif\n",
      "generating tc2 rgb geotif images...\n",
      "output: d:/Kuliah/MBKM/PKKM BMKG/NCHelper/tc2_rgb.tif\n"
     ]
    }
   ],
   "source": [
    "nch.nc2rgbtif('tc1', 'tc_color.txt')\n",
    "nch.nc2rgbtif('tc2', 'tc_color.txt')"
   ]
  }
 ],
 "metadata": {
  "kernelspec": {
   "display_name": "base",
   "language": "python",
   "name": "python3"
  },
  "language_info": {
   "codemirror_mode": {
    "name": "ipython",
    "version": 3
   },
   "file_extension": ".py",
   "mimetype": "text/x-python",
   "name": "python",
   "nbconvert_exporter": "python",
   "pygments_lexer": "ipython3",
   "version": "3.11.5"
  }
 },
 "nbformat": 4,
 "nbformat_minor": 2
}
