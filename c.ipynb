{
 "cells": [
  {
   "cell_type": "code",
   "execution_count": 1,
   "metadata": {},
   "outputs": [],
   "source": [
    "from NCHelper import NCHelper\n",
    "from datetime import datetime, timedelta\n",
    "import xarray as xr\n",
    "import numpy as np\n",
    "import rasterio\n",
    "from rasterio.crs import CRS\n",
    "import time\n",
    "import os\n",
    "import shutil"
   ]
  },
  {
   "cell_type": "code",
   "execution_count": 2,
   "metadata": {},
   "outputs": [
    {
     "name": "stdout",
     "output_type": "stream",
     "text": [
      "reading dataset...\n",
      "reading dataset done\n"
     ]
    },
    {
     "name": "stderr",
     "output_type": "stream",
     "text": [
      "c:\\Users\\falbas\\miniconda3\\Lib\\site-packages\\xarray\\coding\\times.py:167: SerializationWarning: Ambiguous reference date string: 1-1-1 00:00:0.0. The first value is assumed to be the year hence will be padded with zeros to remove the ambiguity (the padded reference date string is: 0001-1-1 00:00:0.0). To remove this message, remove the ambiguity by padding your reference date strings with zeros.\n",
      "  warnings.warn(warning_msg, SerializationWarning)\n"
     ]
    }
   ],
   "source": [
    "date_str = \"2023110800\"\n",
    "ds = f\"http://182.16.248.173:8080/dods/INA-NWP/{date_str}/{date_str}-d01-asim\"\n",
    "# ds = \"sample\\indonesia-20230901-20230907.nc\"\n",
    "\n",
    "nch = NCHelper(ds)"
   ]
  },
  {
   "cell_type": "code",
   "execution_count": 16,
   "metadata": {},
   "outputs": [
    {
     "data": {
      "text/plain": [
       "array(9.897057, dtype=float32)"
      ]
     },
     "execution_count": 16,
     "metadata": {},
     "output_type": "execute_result"
    }
   ],
   "source": [
    "nch.ds['xlat'][0][0][-1][-1].values"
   ]
  },
  {
   "cell_type": "code",
   "execution_count": 15,
   "metadata": {},
   "outputs": [
    {
     "data": {
      "text/plain": [
       "array(143.89561, dtype=float32)"
      ]
     },
     "execution_count": 15,
     "metadata": {},
     "output_type": "execute_result"
    }
   ],
   "source": [
    "nch.ds['xlong'][0][0][0][-1].values"
   ]
  },
  {
   "cell_type": "code",
   "execution_count": 18,
   "metadata": {},
   "outputs": [],
   "source": [
    "lat = nch.ds['lat']\n",
    "lon = nch.ds['lon']\n",
    "u = nch.ds['u']\n",
    "v = nch.ds['v']\n",
    "tc = nch.ds['tc']"
   ]
  },
  {
   "cell_type": "code",
   "execution_count": 47,
   "metadata": {},
   "outputs": [],
   "source": [
    "llat = []\n",
    "for i in lon.values:\n",
    "  llat.append(lat.values)\n",
    "llat = np.array(llat)\n",
    "llat = np.rot90(llat, k=3)"
   ]
  },
  {
   "cell_type": "code",
   "execution_count": 49,
   "metadata": {},
   "outputs": [
    {
     "data": {
      "text/plain": [
       "-15.0001297"
      ]
     },
     "execution_count": 49,
     "metadata": {},
     "output_type": "execute_result"
    }
   ],
   "source": [
    "llat[-1][-1]"
   ]
  },
  {
   "cell_type": "code",
   "execution_count": 50,
   "metadata": {},
   "outputs": [],
   "source": [
    "output_name = 'lat'\n",
    "# var = nch.ds[output_name]\n",
    "var = llat\n",
    "var = np.flip(var, axis=0)\n",
    "transform = rasterio.transform.from_bounds(west=lon[0],south=lat[0],east=lon[-1],north=lat[-1],width=lon.shape[0],height=lat.shape[0])\n",
    "with rasterio.open(\n",
    "    f\"{output_name}.tif\",\n",
    "    \"w\",\n",
    "    driver=\"GTiff\",\n",
    "    height=lat.shape[0],\n",
    "    width=lon.shape[0],\n",
    "    count=1,\n",
    "    dtype=var.dtype,\n",
    "    crs=\"+proj=latlong\",\n",
    "    transform=transform,\n",
    "    nodata=-9999\n",
    ") as dst:\n",
    "    dst.write(var, 1)"
   ]
  },
  {
   "cell_type": "code",
   "execution_count": 19,
   "metadata": {},
   "outputs": [],
   "source": [
    "nch.nc2tif(nch.ds['xlat'][0][0].values, 'xlat', lat.values, lon.values)"
   ]
  },
  {
   "cell_type": "code",
   "execution_count": 8,
   "metadata": {},
   "outputs": [
    {
     "name": "stdout",
     "output_type": "stream",
     "text": [
      "generating tc1 rgb geotif images...\n",
      "output: d:/Kuliah/MBKM/PKKM BMKG/NCHelper/tc1_rgb.tif\n",
      "generating tc2 rgb geotif images...\n",
      "output: d:/Kuliah/MBKM/PKKM BMKG/NCHelper/tc2_rgb.tif\n"
     ]
    }
   ],
   "source": [
    "nch.nc2rgbtif('tc1', 'tc_color.txt')\n",
    "nch.nc2rgbtif('tc2', 'tc_color.txt')"
   ]
  }
 ],
 "metadata": {
  "kernelspec": {
   "display_name": "base",
   "language": "python",
   "name": "python3"
  },
  "language_info": {
   "codemirror_mode": {
    "name": "ipython",
    "version": 3
   },
   "file_extension": ".py",
   "mimetype": "text/x-python",
   "name": "python",
   "nbconvert_exporter": "python",
   "pygments_lexer": "ipython3",
   "version": "3.11.5"
  }
 },
 "nbformat": 4,
 "nbformat_minor": 2
}
