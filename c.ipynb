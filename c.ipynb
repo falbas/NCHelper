{
 "cells": [
  {
   "cell_type": "code",
   "execution_count": 31,
   "metadata": {},
   "outputs": [],
   "source": [
    "import netCDF4 as nc\n",
    "import numpy as np"
   ]
  },
  {
   "cell_type": "code",
   "execution_count": 89,
   "metadata": {},
   "outputs": [
    {
     "data": {
      "text/plain": [
       "<class 'netCDF4._netCDF4.Dataset'>\n",
       "root group (NETCDF3_CLASSIC data model, file format DAP2):\n",
       "    comment: TITLE =  OUTPUT FROM WRF V4.2 MODEL\n",
       "START_DATE = 2023-10-17_12:00:00\n",
       "SIMULATION_START_DATE = 2023-10-17_12:00:00\n",
       "WEST-EAST_GRID_DIMENSION =   621\n",
       "SOUTH-NORTH_GRID_DIMENSION =   312\n",
       "BOTTOM-TOP_GRID_DIMENSION =    33\n",
       "DX =      9000.00\n",
       "DY =      9000.00\n",
       "AERCU_OPT =     0\n",
       "AERCU_FCT =         1.00\n",
       "IDEAL_CASE =     0\n",
       "DIFF_6TH_SLOPEOPT =     0\n",
       "AUTO_LEVELS_OPT =     2\n",
       "DIFF_6TH_THRESH =         0.10\n",
       "DZBOT =        50.00\n",
       "DZSTRETCH_S =         1.30\n",
       "DZSTRETCH_U =         1.10\n",
       "SKEBS_ON =     0\n",
       "SPEC_BDY_FINAL_MU =     1\n",
       "USE_Q_DIABATIC =     0\n",
       "GRIDTYPE = C\n",
       "DIFF_OPT =     1\n",
       "KM_OPT =     4\n",
       "DAMP_OPT =     0\n",
       "DAMPCOEF =         0.20\n",
       "KHDIF =         0.00\n",
       "KVDIF =         0.00\n",
       "MP_PHYSICS =     6\n",
       "RA_LW_PHYSICS =     4\n",
       "RA_SW_PHYSICS =     4\n",
       "SF_SFCLAY_PHYSICS =    91\n",
       "SF_SURFACE_PHYSICS =     2\n",
       "BL_PBL_PHYSICS =     5\n",
       "CU_PHYSICS =    16\n",
       "SF_LAKE_PHYSICS =     0\n",
       "SURFACE_INPUT_SOURCE =     3\n",
       "SST_UPDATE =     0\n",
       "GRID_FDDA =     0\n",
       "GFDDA_INTERVAL_M =     0\n",
       "GFDDA_END_H =     0\n",
       "GRID_SFDDA =     0\n",
       "SGFDDA_INTERVAL_M =     0\n",
       "SGFDDA_END_H =     0\n",
       "HYPSOMETRIC_OPT =     2\n",
       "USE_THETA_M =     1\n",
       "GWD_OPT =     0\n",
       "SF_URBAN_PHYSICS =     0\n",
       "SF_SURFACE_MOSAIC =     0\n",
       "SF_OCEAN_PHYSICS =     0\n",
       "SHCU_PHYSICS =     0\n",
       "MFSHCONV =     0\n",
       "FEEDBACK =     1\n",
       "SMOOTH_OPTION =     1\n",
       "SWRAD_SCAT =         1.00\n",
       "W_DAMPING =     1\n",
       "DT =        36.00\n",
       "ADAPT_DT_START =        36.00\n",
       "ADAPT_DT_MAX =        72.00\n",
       "ADAPT_DT_MIN =        27.00\n",
       "RADT =         9.00\n",
       "BLDT =         0.00\n",
       "CUDT =         5.00\n",
       "AER_OPT =     1\n",
       "SWINT_OPT =     2\n",
       "AER_TYPE =     1\n",
       "AER_AOD550_OPT =     1\n",
       "AER_ANGEXP_OPT =     1\n",
       "AER_SSA_OPT =     1\n",
       "AER_ASY_OPT =     1\n",
       "AER_AOD550_VAL =         0.12\n",
       "AER_ANGEXP_VAL =         1.30\n",
       "AER_SSA_VAL =         0.85\n",
       "AER_ASY_VAL =         0.90\n",
       "MOIST_ADV_OPT =     1\n",
       "SCALAR_ADV_OPT =     1\n",
       "TKE_ADV_OPT =     1\n",
       "DIFF_6TH_OPT =     0\n",
       "DIFF_6TH_FACTOR =         0.12\n",
       "OBS_NUDGE_OPT =     0\n",
       "BUCKET_MM =        -1.00\n",
       "BUCKET_J =        -1.00\n",
       "PREC_ACC_DT =         0.00\n",
       "ISFTCFLX =     0\n",
       "ISHALLOW =     0\n",
       "ISFFLX =     1\n",
       "ICLOUD =     1\n",
       "ICLOUD_CU =     0\n",
       "TRACER_PBLMIX =     1\n",
       "SCALAR_PBLMIX =     0\n",
       "YSU_TOPDOWN_PBLMIX =     0\n",
       "GRAV_SETTLING =     0\n",
       "DFI_OPT =     0\n",
       "NTASKS_X =    19\n",
       "NTASKS_Y =    19\n",
       "NTASKS_TOTAL =   361\n",
       "SIMULATION_INITIALIZATION_TYPE = REAL-DATA CASE\n",
       "WEST-EAST_PATCH_START_UNSTAG =     1\n",
       "WEST-EAST_PATCH_END_UNSTAG =   620\n",
       "WEST-EAST_PATCH_START_STAG =     1\n",
       "WEST-EAST_PATCH_END_STAG =   621\n",
       "SOUTH-NORTH_PATCH_START_UNSTAG =     1\n",
       "SOUTH-NORTH_PATCH_END_UNSTAG =   311\n",
       "SOUTH-NORTH_PATCH_START_STAG =     1\n",
       "SOUTH-NORTH_PATCH_END_STAG =   312\n",
       "BOTTOM-TOP_PATCH_START_UNSTAG =     1\n",
       "BOTTOM-TOP_PATCH_END_UNSTAG =    32\n",
       "BOTTOM-TOP_PATCH_START_STAG =     1\n",
       "BOTTOM-TOP_PATCH_END_STAG =    33\n",
       "GRID_ID =     1\n",
       "PARENT_ID =     1\n",
       "I_PARENT_START =     1\n",
       "J_PARENT_START =     1\n",
       "PARENT_GRID_RATIO =     1\n",
       "CEN_LAT =        -2.61\n",
       "CEN_LON =       118.82\n",
       "TRUELAT1 =        -2.61\n",
       "TRUELAT2 =         0.00\n",
       "MOAD_CEN_LAT =        -2.61\n",
       "STAND_LON =       118.82\n",
       "POLE_LAT =        90.00\n",
       "POLE_LON =         0.00\n",
       "GMT =        12.00\n",
       "JULYR =  2023\n",
       "JULDAY =   290\n",
       "MAP_PROJ =     3\n",
       "MAP_PROJ_CHAR = Mercator\n",
       "MMINLU = USGS\n",
       "NUM_LAND_CAT =    28\n",
       "ISWATER =    16\n",
       "ISLAKE =    28\n",
       "ISICE =    24\n",
       "ISURBAN =     1\n",
       "ISOILWATER =    14\n",
       "HYBRID_OPT =     2\n",
       "ETAC =         0.20\n",
       "    title: OUTPUT FROM WRF V4.2 MODEL\n",
       "    Conventions: COARDS\n",
       "GrADS\n",
       "    dataType: Grid\n",
       "    documentation: http://puslitbang.bmkg.go.id/wrf\n",
       "    history: Wed Oct 18 06:45:16 WIB 2023 : imported by GrADS Data Server 2.0\n",
       "    dimensions(sizes): lat(311), lev(19), lon(620), time(25)\n",
       "    variables(dimensions): float64 time(time), float64 lev(lev), float64 lat(lat), float64 lon(lon), float32 xlat(time, lev, lat, lon), float32 xlong(time, lev, lat, lon), float32 lu_index(time, lev, lat, lon), float32 var_sso(time, lev, lat, lon), float32 u(time, lev, lat, lon), float32 v(time, lev, lat, lon), float32 w(time, lev, lat, lon), float32 ph(time, lev, lat, lon), float32 phb(time, lev, lat, lon), float32 t(time, lev, lat, lon), float32 thm(time, lev, lat, lon), float32 mu(time, lev, lat, lon), float32 mub(time, lev, lat, lon), float32 nest_pos(time, lev, lat, lon), float32 p(time, lev, lat, lon), float32 pb(time, lev, lat, lon), float32 p_hyd(time, lev, lat, lon), float32 q2(time, lev, lat, lon), float32 t2(time, lev, lat, lon), float32 th2(time, lev, lat, lon), float32 psfc(time, lev, lat, lon), float32 u10(time, lev, lat, lon), float32 v10(time, lev, lat, lon), float32 area2d(time, lev, lat, lon), float32 dx2d(time, lev, lat, lon), float32 qvapor(time, lev, lat, lon), float32 qcloud(time, lev, lat, lon), float32 qrain(time, lev, lat, lon), float32 qice(time, lev, lat, lon), float32 qsnow(time, lev, lat, lon), float32 qgraup(time, lev, lat, lon), float32 shdmax(time, lev, lat, lon), float32 shdmin(time, lev, lat, lon), float32 snoalb(time, lev, lat, lon), float32 tslb(time, lev, lat, lon), float32 smois(time, lev, lat, lon), float32 sh2o(time, lev, lat, lon), float32 smcrel(time, lev, lat, lon), float32 seaice(time, lev, lat, lon), float32 xicem(time, lev, lat, lon), float32 sfroff(time, lev, lat, lon), float32 udroff(time, lev, lat, lon), float32 ivgtyp(time, lev, lat, lon), float32 isltyp(time, lev, lat, lon), float32 vegfra(time, lev, lat, lon), float32 sfcevp(time, lev, lat, lon), float32 grdflx(time, lev, lat, lon), float32 acgrdflx(time, lev, lat, lon), float32 acsnom(time, lev, lat, lon), float32 snow(time, lev, lat, lon), float32 snowh(time, lev, lat, lon), float32 canwat(time, lev, lat, lon), float32 sstsk(time, lev, lat, lon), float32 coszen(time, lev, lat, lon), float32 lai(time, lev, lat, lon), float32 var(time, lev, lat, lon), float32 tke_pbl(time, lev, lat, lon), float32 el_pbl(time, lev, lat, lon), float32 mapfac_m(time, lev, lat, lon), float32 mapfac_mx(time, lev, lat, lon), float32 mapfac_my(time, lev, lat, lon), float32 mf_vx_inv(time, lev, lat, lon), float32 f(time, lev, lat, lon), float32 e(time, lev, lat, lon), float32 sinalpha(time, lev, lat, lon), float32 cosalpha(time, lev, lat, lon), float32 hgt(time, lev, lat, lon), float32 tsk(time, lev, lat, lon), float32 rainc(time, lev, lat, lon), float32 rainsh(time, lev, lat, lon), float32 rainnc(time, lev, lat, lon), float32 snownc(time, lev, lat, lon), float32 graupelnc(time, lev, lat, lon), float32 hailnc(time, lev, lat, lon), float32 refl_10cm(time, lev, lat, lon), float32 cldfra(time, lev, lat, lon), float32 swdown(time, lev, lat, lon), float32 swdownc(time, lev, lat, lon), float32 glw(time, lev, lat, lon), float32 swnorm(time, lev, lat, lon), float32 swddir(time, lev, lat, lon), float32 swddni(time, lev, lat, lon), float32 swddnic(time, lev, lat, lon), float32 swddif(time, lev, lat, lon), float32 olr(time, lev, lat, lon), float32 albedo(time, lev, lat, lon), float32 clat(time, lev, lat, lon), float32 albbck(time, lev, lat, lon), float32 emiss(time, lev, lat, lon), float32 noahres(time, lev, lat, lon), float32 tmn(time, lev, lat, lon), float32 xland(time, lev, lat, lon), float32 ust(time, lev, lat, lon), float32 pblh(time, lev, lat, lon), float32 hfx(time, lev, lat, lon), float32 qfx(time, lev, lat, lon), float32 lh(time, lev, lat, lon), float32 achfx(time, lev, lat, lon), float32 aclhf(time, lev, lat, lon), float32 snowc(time, lev, lat, lon), float32 sr(time, lev, lat, lon), float32 potevp(time, lev, lat, lon), float32 wspd10max(time, lev, lat, lon), float32 refd_max(time, lev, lat, lon), float32 up_heli_ma(time, lev, lat, lon), float32 afwa_llws(time, lev, lat, lon), float32 afwa_torna(time, lev, lat, lon), float32 pcb(time, lev, lat, lon), float32 pc(time, lev, lat, lon), float32 cbaseht(time, lev, lat, lon), float32 ctopht(time, lev, lat, lon), float32 clrnidx(time, lev, lat, lon), float32 sza(time, lev, lat, lon), float32 landmask(time, lev, lat, lon), float32 lakemask(time, lev, lat, lon), float32 sst(time, lev, lat, lon), float32 sst_input(time, lev, lat, lon), float32 pressure(time, lev, lat, lon), float32 geopt(time, lev, lat, lon), float32 height(time, lev, lat, lon), float32 tk(time, lev, lat, lon), float32 tc(time, lev, lat, lon), float32 theta(time, lev, lat, lon), float32 td(time, lev, lat, lon), float32 td2(time, lev, lat, lon), float32 rh(time, lev, lat, lon), float32 clflo(time, lev, lat, lon), float32 clfmi(time, lev, lat, lon), float32 clfhi(time, lev, lat, lon), float32 rh2(time, lev, lat, lon), float32 wspd(time, lev, lat, lon), float32 wdir(time, lev, lat, lon), float32 ws10(time, lev, lat, lon), float32 wd10(time, lev, lat, lon), float32 umet(time, lev, lat, lon), float32 vmet(time, lev, lat, lon), float32 u10m(time, lev, lat, lon), float32 v10m(time, lev, lat, lon), float32 slp(time, lev, lat, lon), float32 dbz(time, lev, lat, lon), float32 max_dbz(time, lev, lat, lon), float32 cape(time, lev, lat, lon), float32 cin(time, lev, lat, lon), float32 mcape(time, lev, lat, lon), float32 mcin(time, lev, lat, lon), float32 lcl(time, lev, lat, lon), float32 lfc(time, lev, lat, lon)\n",
       "    groups: "
      ]
     },
     "execution_count": 89,
     "metadata": {},
     "output_type": "execute_result"
    }
   ],
   "source": [
    "fn = 'http://182.16.248.173:8080/dods/INA-NWP/2023101712/2023101712-d01-asim'\n",
    "ds = nc.Dataset(fn)\n",
    "ds"
   ]
  },
  {
   "cell_type": "code",
   "execution_count": 90,
   "metadata": {},
   "outputs": [],
   "source": [
    "_time = ds['time']\n",
    "_lev = ds['lev']\n",
    "_lat = ds['lat']\n",
    "_lon = ds['lon']\n",
    "_tc = ds['u']"
   ]
  },
  {
   "cell_type": "code",
   "execution_count": 91,
   "metadata": {},
   "outputs": [
    {
     "name": "stdout",
     "output_type": "stream",
     "text": [
      "<class 'netCDF4._netCDF4.Dataset'>\n",
      "root group (NETCDF3_64BIT_OFFSET data model, file format NETCDF3):\n",
      "    Conventions: CF-1.6\n",
      "    dimensions(sizes): \n",
      "    variables(dimensions): \n",
      "    groups: \n"
     ]
    }
   ],
   "source": [
    "newnc = nc.Dataset('new2.nc', mode='w', format='NETCDF3_64BIT_OFFSET')\n",
    "newnc.Conventions = 'CF-1.6'\n",
    "print(newnc)"
   ]
  },
  {
   "cell_type": "code",
   "execution_count": 92,
   "metadata": {},
   "outputs": [
    {
     "name": "stdout",
     "output_type": "stream",
     "text": [
      "<class 'netCDF4._netCDF4.Dataset'>\n",
      "root group (NETCDF3_64BIT_OFFSET data model, file format NETCDF3):\n",
      "    Conventions: CF-1.6\n",
      "    dimensions(sizes): time(25), lev(19), lat(311), lon(620)\n",
      "    variables(dimensions): \n",
      "    groups: \n"
     ]
    }
   ],
   "source": [
    "newnc.createDimension('time', _time.shape[0])\n",
    "newnc.createDimension('lev', _lev.shape[0])\n",
    "newnc.createDimension('lat', _lat.shape[0])\n",
    "newnc.createDimension('lon', _lon.shape[0])\n",
    "print(newnc)"
   ]
  },
  {
   "cell_type": "code",
   "execution_count": 93,
   "metadata": {},
   "outputs": [
    {
     "name": "stdout",
     "output_type": "stream",
     "text": [
      "<class 'netCDF4._netCDF4.Dataset'>\n",
      "root group (NETCDF3_64BIT_OFFSET data model, file format NETCDF3):\n",
      "    Conventions: CF-1.6\n",
      "    dimensions(sizes): time(25), lev(19), lat(311), lon(620)\n",
      "    variables(dimensions): float64 time(time), float64 lev(lev), float64 lat(lat), float64 lon(lon), float32 tc(time, lev, lat, lon)\n",
      "    groups: \n"
     ]
    }
   ],
   "source": [
    "time = newnc.createVariable('time', _time.datatype, ('time',))\n",
    "time.long_name = _time.long_name\n",
    "lev = newnc.createVariable('lev', _lev.datatype, ('lev',))\n",
    "lev.long_name = _lev.long_name\n",
    "lat = newnc.createVariable('lat', _lat.datatype, ('lat',))\n",
    "lat.long_name = _lat.long_name\n",
    "lon = newnc.createVariable('lon', _lon.datatype, ('lon',))\n",
    "lon.long_name = _lon.long_name\n",
    "tc = newnc.createVariable('tc', _tc.datatype, _tc.dimensions)\n",
    "tc.long_name = _tc.long_name\n",
    "print(newnc)"
   ]
  },
  {
   "cell_type": "code",
   "execution_count": 94,
   "metadata": {},
   "outputs": [],
   "source": [
    "time[:] = _time[:]\n",
    "lev[:] = _lev[:]\n",
    "lat[:] = _lat[:]\n",
    "lon[:] = _lon[:]\n",
    "tc[:,:,:,:] = _tc[:,:,:,:]"
   ]
  },
  {
   "cell_type": "code",
   "execution_count": 95,
   "metadata": {},
   "outputs": [
    {
     "data": {
      "text/plain": [
       "<class 'netCDF4._netCDF4.Variable'>\n",
       "float32 tc(time, lev, lat, lon)\n",
       "    long_name: x-wind component (m s-1) \n",
       "unlimited dimensions: \n",
       "current shape = (25, 19, 311, 620)\n",
       "filling on, default _FillValue of 9.969209968386869e+36 used"
      ]
     },
     "execution_count": 95,
     "metadata": {},
     "output_type": "execute_result"
    }
   ],
   "source": [
    "tc"
   ]
  }
 ],
 "metadata": {
  "kernelspec": {
   "display_name": "Python 3",
   "language": "python",
   "name": "python3"
  },
  "language_info": {
   "codemirror_mode": {
    "name": "ipython",
    "version": 3
   },
   "file_extension": ".py",
   "mimetype": "text/x-python",
   "name": "python",
   "nbconvert_exporter": "python",
   "pygments_lexer": "ipython3",
   "version": "3.11.4"
  }
 },
 "nbformat": 4,
 "nbformat_minor": 2
}
