{
 "cells": [
  {
   "cell_type": "code",
   "execution_count": 1,
   "metadata": {},
   "outputs": [],
   "source": [
    "from NCHelper import NCHelper\n",
    "from datetime import datetime, timedelta\n",
    "import xarray as xr\n",
    "import time\n",
    "import os\n",
    "import shutil"
   ]
  },
  {
   "cell_type": "code",
   "execution_count": 18,
   "metadata": {},
   "outputs": [
    {
     "name": "stdout",
     "output_type": "stream",
     "text": [
      "reading dataset...\n",
      "reading dataset done\n"
     ]
    },
    {
     "name": "stderr",
     "output_type": "stream",
     "text": [
      "c:\\Users\\falbas\\miniconda3\\Lib\\site-packages\\xarray\\coding\\times.py:167: SerializationWarning: Ambiguous reference date string: 1-1-1 00:00:0.0. The first value is assumed to be the year hence will be padded with zeros to remove the ambiguity (the padded reference date string is: 0001-1-1 00:00:0.0). To remove this message, remove the ambiguity by padding your reference date strings with zeros.\n",
      "  warnings.warn(warning_msg, SerializationWarning)\n"
     ]
    }
   ],
   "source": [
    "# date_str = \"2023110612\"\n",
    "date_str = \"2023110800\"\n",
    "# dir_path = f\"storage/{date_str}\"\n",
    "# if os.path.exists(dir_path):\n",
    "#     shutil.rmtree(dir_path)\n",
    "# os.mkdir(dir_path)\n",
    "\n",
    "nch = NCHelper(\n",
    "    f\"http://182.16.248.173:8080/dods/INA-NWP/{date_str}/{date_str}-d01-asim\"\n",
    ")"
   ]
  },
  {
   "cell_type": "code",
   "execution_count": 19,
   "metadata": {},
   "outputs": [],
   "source": [
    "time = nch.ds['time']\n",
    "times = []\n",
    "for t in time.values:\n",
    "  dt = t.astype('M8[ms]').astype('O')\n",
    "  times.append(dt.strftime(\"%Y%m%d%H\"))"
   ]
  },
  {
   "cell_type": "code",
   "execution_count": 23,
   "metadata": {},
   "outputs": [
    {
     "name": "stdout",
     "output_type": "stream",
     "text": [
      "2023110800 0\n",
      "2023110900 8\n",
      "2023111000 16\n"
     ]
    }
   ],
   "source": [
    "for i in range(0, len(times)-1, 8):\n",
    "  print(f\"{times[i]} {i}\")"
   ]
  },
  {
   "cell_type": "code",
   "execution_count": null,
   "metadata": {},
   "outputs": [],
   "source": [
    "time = nch.ds['time']\n",
    "times = []\n",
    "for i in range(0, 2):\n",
    "  dt = t.astype('M8[ms]').astype('O')\n",
    "  times.append(dt.strftime(\"%Y%m%d%H\"))"
   ]
  },
  {
   "cell_type": "code",
   "execution_count": 11,
   "metadata": {},
   "outputs": [],
   "source": [
    "u = nch.ds[\"u\"]\n",
    "v = nch.ds[\"v\"]\n",
    "lat = nch.ds[\"lat\"]\n",
    "lon = nch.ds[\"lon\"]\n",
    "tc = nch.ds[\"tc\"]\n",
    "psfc = nch.ds[\"psfc\"]"
   ]
  },
  {
   "cell_type": "code",
   "execution_count": 12,
   "metadata": {},
   "outputs": [
    {
     "name": "stdout",
     "output_type": "stream",
     "text": [
      "generating storage/2023110800/wind/U ascii grid...\n",
      "output: d:/Kuliah/MBKM/PKKM BMKG/tes-netcdf/storage/2023110800/wind/U.asc\n",
      "generating storage/2023110800/wind/V ascii grid...\n",
      "output: d:/Kuliah/MBKM/PKKM BMKG/tes-netcdf/storage/2023110800/wind/V.asc\n",
      "generating storage/2023110803/wind/U ascii grid...\n",
      "output: d:/Kuliah/MBKM/PKKM BMKG/tes-netcdf/storage/2023110803/wind/U.asc\n",
      "generating storage/2023110803/wind/V ascii grid...\n",
      "output: d:/Kuliah/MBKM/PKKM BMKG/tes-netcdf/storage/2023110803/wind/V.asc\n",
      "generating storage/2023110806/wind/U ascii grid...\n",
      "output: d:/Kuliah/MBKM/PKKM BMKG/tes-netcdf/storage/2023110806/wind/U.asc\n",
      "generating storage/2023110806/wind/V ascii grid...\n",
      "output: d:/Kuliah/MBKM/PKKM BMKG/tes-netcdf/storage/2023110806/wind/V.asc\n",
      "generating storage/2023110809/wind/U ascii grid...\n",
      "output: d:/Kuliah/MBKM/PKKM BMKG/tes-netcdf/storage/2023110809/wind/U.asc\n",
      "generating storage/2023110809/wind/V ascii grid...\n",
      "output: d:/Kuliah/MBKM/PKKM BMKG/tes-netcdf/storage/2023110809/wind/V.asc\n",
      "generating storage/2023110812/wind/U ascii grid...\n",
      "output: d:/Kuliah/MBKM/PKKM BMKG/tes-netcdf/storage/2023110812/wind/U.asc\n",
      "generating storage/2023110812/wind/V ascii grid...\n",
      "output: d:/Kuliah/MBKM/PKKM BMKG/tes-netcdf/storage/2023110812/wind/V.asc\n",
      "generating storage/2023110815/wind/U ascii grid...\n",
      "output: d:/Kuliah/MBKM/PKKM BMKG/tes-netcdf/storage/2023110815/wind/U.asc\n",
      "generating storage/2023110815/wind/V ascii grid...\n",
      "output: d:/Kuliah/MBKM/PKKM BMKG/tes-netcdf/storage/2023110815/wind/V.asc\n",
      "generating storage/2023110818/wind/U ascii grid...\n",
      "output: d:/Kuliah/MBKM/PKKM BMKG/tes-netcdf/storage/2023110818/wind/U.asc\n",
      "generating storage/2023110818/wind/V ascii grid...\n",
      "output: d:/Kuliah/MBKM/PKKM BMKG/tes-netcdf/storage/2023110818/wind/V.asc\n",
      "generating storage/2023110821/wind/U ascii grid...\n",
      "output: d:/Kuliah/MBKM/PKKM BMKG/tes-netcdf/storage/2023110821/wind/U.asc\n",
      "generating storage/2023110821/wind/V ascii grid...\n",
      "output: d:/Kuliah/MBKM/PKKM BMKG/tes-netcdf/storage/2023110821/wind/V.asc\n",
      "generating storage/2023110900/wind/U ascii grid...\n",
      "output: d:/Kuliah/MBKM/PKKM BMKG/tes-netcdf/storage/2023110900/wind/U.asc\n",
      "generating storage/2023110900/wind/V ascii grid...\n",
      "output: d:/Kuliah/MBKM/PKKM BMKG/tes-netcdf/storage/2023110900/wind/V.asc\n",
      "generating storage/2023110903/wind/U ascii grid...\n",
      "output: d:/Kuliah/MBKM/PKKM BMKG/tes-netcdf/storage/2023110903/wind/U.asc\n",
      "generating storage/2023110903/wind/V ascii grid...\n",
      "output: d:/Kuliah/MBKM/PKKM BMKG/tes-netcdf/storage/2023110903/wind/V.asc\n",
      "generating storage/2023110906/wind/U ascii grid...\n",
      "output: d:/Kuliah/MBKM/PKKM BMKG/tes-netcdf/storage/2023110906/wind/U.asc\n",
      "generating storage/2023110906/wind/V ascii grid...\n",
      "output: d:/Kuliah/MBKM/PKKM BMKG/tes-netcdf/storage/2023110906/wind/V.asc\n",
      "generating storage/2023110909/wind/U ascii grid...\n",
      "output: d:/Kuliah/MBKM/PKKM BMKG/tes-netcdf/storage/2023110909/wind/U.asc\n",
      "generating storage/2023110909/wind/V ascii grid...\n",
      "output: d:/Kuliah/MBKM/PKKM BMKG/tes-netcdf/storage/2023110909/wind/V.asc\n",
      "generating storage/2023110912/wind/U ascii grid...\n",
      "output: d:/Kuliah/MBKM/PKKM BMKG/tes-netcdf/storage/2023110912/wind/U.asc\n",
      "generating storage/2023110912/wind/V ascii grid...\n",
      "output: d:/Kuliah/MBKM/PKKM BMKG/tes-netcdf/storage/2023110912/wind/V.asc\n",
      "generating storage/2023110915/wind/U ascii grid...\n",
      "output: d:/Kuliah/MBKM/PKKM BMKG/tes-netcdf/storage/2023110915/wind/U.asc\n",
      "generating storage/2023110915/wind/V ascii grid...\n",
      "output: d:/Kuliah/MBKM/PKKM BMKG/tes-netcdf/storage/2023110915/wind/V.asc\n",
      "generating storage/2023110918/wind/U ascii grid...\n",
      "output: d:/Kuliah/MBKM/PKKM BMKG/tes-netcdf/storage/2023110918/wind/U.asc\n",
      "generating storage/2023110918/wind/V ascii grid...\n",
      "output: d:/Kuliah/MBKM/PKKM BMKG/tes-netcdf/storage/2023110918/wind/V.asc\n",
      "generating storage/2023110921/wind/U ascii grid...\n",
      "output: d:/Kuliah/MBKM/PKKM BMKG/tes-netcdf/storage/2023110921/wind/U.asc\n",
      "generating storage/2023110921/wind/V ascii grid...\n",
      "output: d:/Kuliah/MBKM/PKKM BMKG/tes-netcdf/storage/2023110921/wind/V.asc\n",
      "generating storage/2023111000/wind/U ascii grid...\n",
      "output: d:/Kuliah/MBKM/PKKM BMKG/tes-netcdf/storage/2023111000/wind/U.asc\n",
      "generating storage/2023111000/wind/V ascii grid...\n",
      "output: d:/Kuliah/MBKM/PKKM BMKG/tes-netcdf/storage/2023111000/wind/V.asc\n",
      "generating storage/2023111003/wind/U ascii grid...\n",
      "output: d:/Kuliah/MBKM/PKKM BMKG/tes-netcdf/storage/2023111003/wind/U.asc\n",
      "generating storage/2023111003/wind/V ascii grid...\n",
      "output: d:/Kuliah/MBKM/PKKM BMKG/tes-netcdf/storage/2023111003/wind/V.asc\n",
      "generating storage/2023111006/wind/U ascii grid...\n",
      "output: d:/Kuliah/MBKM/PKKM BMKG/tes-netcdf/storage/2023111006/wind/U.asc\n",
      "generating storage/2023111006/wind/V ascii grid...\n",
      "output: d:/Kuliah/MBKM/PKKM BMKG/tes-netcdf/storage/2023111006/wind/V.asc\n",
      "generating storage/2023111009/wind/U ascii grid...\n",
      "output: d:/Kuliah/MBKM/PKKM BMKG/tes-netcdf/storage/2023111009/wind/U.asc\n",
      "generating storage/2023111009/wind/V ascii grid...\n",
      "output: d:/Kuliah/MBKM/PKKM BMKG/tes-netcdf/storage/2023111009/wind/V.asc\n",
      "generating storage/2023111012/wind/U ascii grid...\n",
      "output: d:/Kuliah/MBKM/PKKM BMKG/tes-netcdf/storage/2023111012/wind/U.asc\n",
      "generating storage/2023111012/wind/V ascii grid...\n",
      "output: d:/Kuliah/MBKM/PKKM BMKG/tes-netcdf/storage/2023111012/wind/V.asc\n",
      "generating storage/2023111015/wind/U ascii grid...\n",
      "output: d:/Kuliah/MBKM/PKKM BMKG/tes-netcdf/storage/2023111015/wind/U.asc\n",
      "generating storage/2023111015/wind/V ascii grid...\n",
      "output: d:/Kuliah/MBKM/PKKM BMKG/tes-netcdf/storage/2023111015/wind/V.asc\n",
      "generating storage/2023111018/wind/U ascii grid...\n",
      "output: d:/Kuliah/MBKM/PKKM BMKG/tes-netcdf/storage/2023111018/wind/U.asc\n",
      "generating storage/2023111018/wind/V ascii grid...\n",
      "output: d:/Kuliah/MBKM/PKKM BMKG/tes-netcdf/storage/2023111018/wind/V.asc\n",
      "generating storage/2023111021/wind/U ascii grid...\n",
      "output: d:/Kuliah/MBKM/PKKM BMKG/tes-netcdf/storage/2023111021/wind/U.asc\n",
      "generating storage/2023111021/wind/V ascii grid...\n",
      "output: d:/Kuliah/MBKM/PKKM BMKG/tes-netcdf/storage/2023111021/wind/V.asc\n",
      "generating storage/2023111100/wind/U ascii grid...\n",
      "output: d:/Kuliah/MBKM/PKKM BMKG/tes-netcdf/storage/2023111100/wind/U.asc\n",
      "generating storage/2023111100/wind/V ascii grid...\n",
      "output: d:/Kuliah/MBKM/PKKM BMKG/tes-netcdf/storage/2023111100/wind/V.asc\n"
     ]
    }
   ],
   "source": [
    "for i in range(len(times)):\n",
    "    dir_path = f\"storage/{times[i]}\"\n",
    "    if os.path.exists(dir_path):\n",
    "        shutil.rmtree(dir_path)\n",
    "    os.mkdir(dir_path)\n",
    "\n",
    "    wind_dir = f\"{dir_path}/wind\"\n",
    "    os.mkdir(wind_dir)\n",
    "    nch.nc2asc(u[i][0], lat, lon, f\"{wind_dir}/U\")\n",
    "    nch.nc2asc(v[i][0], lat, lon, f\"{wind_dir}/V\")\n",
    "\n"
   ]
  }
 ],
 "metadata": {
  "kernelspec": {
   "display_name": "base",
   "language": "python",
   "name": "python3"
  },
  "language_info": {
   "codemirror_mode": {
    "name": "ipython",
    "version": 3
   },
   "file_extension": ".py",
   "mimetype": "text/x-python",
   "name": "python",
   "nbconvert_exporter": "python",
   "pygments_lexer": "ipython3",
   "version": "3.11.5"
  }
 },
 "nbformat": 4,
 "nbformat_minor": 2
}
