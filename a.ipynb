{
 "cells": [
  {
   "cell_type": "code",
   "execution_count": 1,
   "metadata": {},
   "outputs": [],
   "source": [
    "import netCDF4 as nc"
   ]
  },
  {
   "cell_type": "code",
   "execution_count": 2,
   "metadata": {},
   "outputs": [
    {
     "data": {
      "text/plain": [
       "<class 'netCDF4._netCDF4.Dataset'>\n",
       "root group (NETCDF3_64BIT_OFFSET data model, file format NETCDF3):\n",
       "    Conventions: CF-1.6\n",
       "    history: 2023-10-06 14:25:07 GMT by grib_to_netcdf-2.25.1: /opt/ecmwf/mars-client/bin/grib_to_netcdf.bin -S param -o /cache/data9/adaptor.mars.internal-1696602304.2302055-1465-9-582b69b6-1448-4884-bca3-51a347bcad42.nc /cache/tmp/582b69b6-1448-4884-bca3-51a347bcad42-adaptor.mars.internal-1696602270.2639842-1465-17-tmp.grib\n",
       "    dimensions(sizes): longitude(221), latitude(89), time(720)\n",
       "    variables(dimensions): float32 longitude(longitude), float32 latitude(latitude), int32 time(time), int16 u10(time, latitude, longitude), int16 v10(time, latitude, longitude)\n",
       "    groups: "
      ]
     },
     "execution_count": 2,
     "metadata": {},
     "output_type": "execute_result"
    }
   ],
   "source": [
    "fn = 'sample/wind-indonesia-sep-2023.nc'\n",
    "ds = nc.Dataset(fn)\n",
    "ds"
   ]
  },
  {
   "cell_type": "code",
   "execution_count": 3,
   "metadata": {},
   "outputs": [],
   "source": [
    "ncols = len(ds['longitude'])\n",
    "nrows = len(ds['latitude'])\n",
    "xllcorner = ds['longitude'][:][0]\n",
    "yllcorner = ds['latitude'][:][-1]\n",
    "cellsize = 0.25\n",
    "NODATA_value = -9999\n",
    "u = ds['u10'][:][0]\n",
    "v = ds['v10'][:][0]"
   ]
  },
  {
   "cell_type": "code",
   "execution_count": 17,
   "metadata": {},
   "outputs": [],
   "source": [
    "with open('U.asc', 'w') as file:\n",
    "    file.write(f'ncols {ncols}\\n')\n",
    "    file.write(f'nrows {nrows}\\n')\n",
    "    file.write(f'xllcorner {xllcorner}\\n')\n",
    "    file.write(f'yllcorner {yllcorner}\\n')\n",
    "    file.write(f'cellsize {cellsize}\\n')\n",
    "    file.write(f'NODATA_value {NODATA_value}\\n')\n",
    "    for i in u:\n",
    "        for j in i:\n",
    "            file.write(f'{j*20} ')\n",
    "        file.write('\\n')"
   ]
  },
  {
   "cell_type": "code",
   "execution_count": 18,
   "metadata": {},
   "outputs": [],
   "source": [
    "with open('V.asc', 'w') as file:\n",
    "    file.write(f'ncols {ncols}\\n')\n",
    "    file.write(f'nrows {nrows}\\n')\n",
    "    file.write(f'xllcorner {xllcorner}\\n')\n",
    "    file.write(f'yllcorner {yllcorner}\\n')\n",
    "    file.write(f'cellsize {cellsize}\\n')\n",
    "    file.write(f'NODATA_value {NODATA_value}\\n')\n",
    "    for i in v:\n",
    "        for j in i:\n",
    "            file.write(f'{j*20} ')\n",
    "        file.write('\\n')"
   ]
  }
 ],
 "metadata": {
  "kernelspec": {
   "display_name": "Python 3",
   "language": "python",
   "name": "python3"
  },
  "language_info": {
   "codemirror_mode": {
    "name": "ipython",
    "version": 3
   },
   "file_extension": ".py",
   "mimetype": "text/x-python",
   "name": "python",
   "nbconvert_exporter": "python",
   "pygments_lexer": "ipython3",
   "version": "3.11.4"
  }
 },
 "nbformat": 4,
 "nbformat_minor": 2
}
