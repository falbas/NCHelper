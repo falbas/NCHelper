{
 "cells": [
  {
   "cell_type": "code",
   "execution_count": 52,
   "metadata": {},
   "outputs": [],
   "source": [
    "ncols = ''\n",
    "nrows = ''\n",
    "xllcorner = ''\n",
    "yllcorner = ''\n",
    "cellsize = ''\n",
    "NODATA_value = ''\n",
    "a = []\n",
    "with open('U.asc', 'r') as file:\n",
    "  f = file.readlines()\n",
    "  ncols = f[0].strip()\n",
    "  nrows = f[1].strip()\n",
    "  xllcorner = f[2].strip()\n",
    "  yllcorner = f[3].strip()\n",
    "  cellsize = f[4].strip()\n",
    "  NODATA_value = f[5].strip()\n",
    "  lines = f[6:]\n",
    "  for line in lines:\n",
    "    l = line.strip().split(' ')\n",
    "    b = []\n",
    "    for w in l:\n",
    "      b.append(float(w)*10**2)\n",
    "    a.append(b)\n",
    "\n",
    "with open('new/U.asc', 'w') as file:\n",
    "    file.write(f'{ncols}\\n')\n",
    "    file.write(f'{nrows}\\n')\n",
    "    file.write(f'{xllcorner}\\n')\n",
    "    file.write(f'{yllcorner}\\n')\n",
    "    file.write(f'{cellsize}\\n')\n",
    "    file.write(f'{NODATA_value}\\n')\n",
    "    for i in a:\n",
    "        for j in i:\n",
    "            file.write(f'{j} ')\n",
    "        file.write('\\n')"
   ]
  },
  {
   "cell_type": "code",
   "execution_count": 53,
   "metadata": {},
   "outputs": [],
   "source": [
    "ncols = ''\n",
    "nrows = ''\n",
    "xllcorner = ''\n",
    "yllcorner = ''\n",
    "cellsize = ''\n",
    "NODATA_value = ''\n",
    "a = []\n",
    "with open('V.asc', 'r') as file:\n",
    "  f = file.readlines()\n",
    "  ncols = f[0].strip()\n",
    "  nrows = f[1].strip()\n",
    "  xllcorner = f[2].strip()\n",
    "  yllcorner = f[3].strip()\n",
    "  cellsize = f[4].strip()\n",
    "  NODATA_value = f[5].strip()\n",
    "  lines = f[6:]\n",
    "  for line in lines:\n",
    "    l = line.strip().split(' ')\n",
    "    b = []\n",
    "    for w in l:\n",
    "      b.append(float(w)*10**2)\n",
    "    a.append(b)\n",
    "\n",
    "with open('new/V.asc', 'w') as file:\n",
    "    file.write(f'{ncols}\\n')\n",
    "    file.write(f'{nrows}\\n')\n",
    "    file.write(f'{xllcorner}\\n')\n",
    "    file.write(f'{yllcorner}\\n')\n",
    "    file.write(f'{cellsize}\\n')\n",
    "    file.write(f'{NODATA_value}\\n')\n",
    "    for i in a:\n",
    "        for j in i:\n",
    "            file.write(f'{j} ')\n",
    "        file.write('\\n')"
   ]
  }
 ],
 "metadata": {
  "kernelspec": {
   "display_name": "Python 3",
   "language": "python",
   "name": "python3"
  },
  "language_info": {
   "codemirror_mode": {
    "name": "ipython",
    "version": 3
   },
   "file_extension": ".py",
   "mimetype": "text/x-python",
   "name": "python",
   "nbconvert_exporter": "python",
   "pygments_lexer": "ipython3",
   "version": "3.11.4"
  }
 },
 "nbformat": 4,
 "nbformat_minor": 2
}
