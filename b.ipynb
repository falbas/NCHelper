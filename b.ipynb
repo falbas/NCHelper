{
 "cells": [
  {
   "cell_type": "code",
   "execution_count": 1,
   "metadata": {},
   "outputs": [],
   "source": [
    "from NCHelper import NCHelper\n",
    "from datetime import datetime, timedelta\n",
    "import xarray as xr\n",
    "import numpy as np\n",
    "import time\n",
    "import os\n",
    "import shutil"
   ]
  },
  {
   "cell_type": "code",
   "execution_count": 2,
   "metadata": {},
   "outputs": [
    {
     "name": "stdout",
     "output_type": "stream",
     "text": [
      "reading dataset...\n",
      "reading dataset done\n"
     ]
    }
   ],
   "source": [
    "# date_str = \"2023110800\"\n",
    "# dir_path = f\"storage/{date_str}\"\n",
    "# if os.path.exists(dir_path):\n",
    "#     shutil.rmtree(dir_path)\n",
    "# os.mkdir(dir_path)\n",
    "\n",
    "nch = NCHelper(\n",
    "    f\"sample\\indonesia-20230901-20230907.nc\"\n",
    ")"
   ]
  },
  {
   "cell_type": "code",
   "execution_count": 3,
   "metadata": {},
   "outputs": [],
   "source": [
    "lat = nch.ds[\"latitude\"]\n",
    "lon = nch.ds[\"longitude\"]\n",
    "u10 = nch.ds[\"u10\"]"
   ]
  },
  {
   "cell_type": "code",
   "execution_count": 4,
   "metadata": {},
   "outputs": [
    {
     "name": "stdout",
     "output_type": "stream",
     "text": [
      "generating U10 ascii grid...\n",
      "output: d:/Kuliah/MBKM/PKKM BMKG/NCHelper/U10.asc\n"
     ]
    }
   ],
   "source": [
    "nch.nc2asc(u10[0], lat, lon, 'U10')"
   ]
  },
  {
   "cell_type": "code",
   "execution_count": null,
   "metadata": {},
   "outputs": [],
   "source": []
  }
 ],
 "metadata": {
  "kernelspec": {
   "display_name": "base",
   "language": "python",
   "name": "python3"
  },
  "language_info": {
   "codemirror_mode": {
    "name": "ipython",
    "version": 3
   },
   "file_extension": ".py",
   "mimetype": "text/x-python",
   "name": "python",
   "nbconvert_exporter": "python",
   "pygments_lexer": "ipython3",
   "version": "3.11.5"
  }
 },
 "nbformat": 4,
 "nbformat_minor": 2
}
