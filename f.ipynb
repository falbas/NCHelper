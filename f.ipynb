{
 "cells": [
  {
   "cell_type": "code",
   "execution_count": 3,
   "metadata": {},
   "outputs": [],
   "source": [
    "import os\n",
    "import shutil\n",
    "import subprocess\n",
    "import xarray as xr\n",
    "# import rasterio\n",
    "# import rasterio.plot"
   ]
  },
  {
   "cell_type": "code",
   "execution_count": 4,
   "metadata": {},
   "outputs": [],
   "source": [
    "date = \"20231028\"\n",
    "dir_path = \"storage/\" + date\n",
    "if os.path.exists(dir_path):\n",
    "    shutil.rmtree(dir_path)\n",
    "os.mkdir(dir_path)"
   ]
  },
  {
   "cell_type": "code",
   "execution_count": 5,
   "metadata": {},
   "outputs": [
    {
     "name": "stderr",
     "output_type": "stream",
     "text": [
      "c:\\Users\\falbas\\miniconda3\\Lib\\site-packages\\xarray\\coding\\times.py:167: SerializationWarning: Ambiguous reference date string: 1-1-1 00:00:0.0. The first value is assumed to be the year hence will be padded with zeros to remove the ambiguity (the padded reference date string is: 0001-1-1 00:00:0.0). To remove this message, remove the ambiguity by padding your reference date strings with zeros.\n",
      "  warnings.warn(warning_msg, SerializationWarning)\n"
     ]
    }
   ],
   "source": [
    "ds = xr.open_dataset(\"http://182.16.248.173:8080/dods/INA-NWP/2023102800/2023102800-d01-asim\")"
   ]
  },
  {
   "cell_type": "code",
   "execution_count": 6,
   "metadata": {},
   "outputs": [],
   "source": [
    "time = ds['time']\n",
    "lev = ds['lev']\n",
    "lat = ds['lat']\n",
    "lon = ds['lon']\n",
    "u = ds['u']\n",
    "v = ds['v']\n",
    "\n",
    "rainc = ds['rainc']\n",
    "rainsh = ds['rainsh']\n",
    "rainnc = ds['rainnc']\n",
    "tc = ds['tc']\n",
    "psfc = ds['psfc']\n",
    "rh = ds['rh']"
   ]
  },
  {
   "cell_type": "code",
   "execution_count": 12,
   "metadata": {},
   "outputs": [],
   "source": [
    "# make uv wind component ascii grid\n",
    "ncols = ds.dims.get('lon')\n",
    "nrows = ds.dims.get('lat')\n",
    "xllcorner = lon[0].values\n",
    "yllcorner = lat[-1].values\n",
    "cellsize = abs(lat[0].values-lat[1].values)\n",
    "NODATA_value = -9999\n",
    "u_grid = u[0][0].values\n",
    "v_grid = u[0][0].values"
   ]
  },
  {
   "cell_type": "code",
   "execution_count": 13,
   "metadata": {},
   "outputs": [],
   "source": [
    "with open(f'{dir_path}/U.asc', 'w') as file:\n",
    "    file.write(f'ncols {ncols}\\n')\n",
    "    file.write(f'nrows {nrows}\\n')\n",
    "    file.write(f'xllcorner {xllcorner}\\n')\n",
    "    file.write(f'yllcorner {yllcorner}\\n')\n",
    "    file.write(f'cellsize {cellsize}\\n')\n",
    "    file.write(f'NODATA_value {NODATA_value}\\n')\n",
    "    for i in u_grid:\n",
    "        for j in i:\n",
    "            file.write(f'{j} ')\n",
    "        file.write('\\n')"
   ]
  },
  {
   "cell_type": "code",
   "execution_count": 14,
   "metadata": {},
   "outputs": [],
   "source": [
    "with open(f'{dir_path}/V.asc', 'w') as file:\n",
    "    file.write(f'ncols {ncols}\\n')\n",
    "    file.write(f'nrows {nrows}\\n')\n",
    "    file.write(f'xllcorner {xllcorner}\\n')\n",
    "    file.write(f'yllcorner {yllcorner}\\n')\n",
    "    file.write(f'cellsize {cellsize}\\n')\n",
    "    file.write(f'NODATA_value {NODATA_value}\\n')\n",
    "    for i in v_grid:\n",
    "        for j in i:\n",
    "            file.write(f'{j} ')\n",
    "        file.write('\\n')"
   ]
  },
  {
   "cell_type": "code",
   "execution_count": 15,
   "metadata": {},
   "outputs": [],
   "source": [
    "# make tiff images\n",
    "tc_tiff = f\"{dir_path}/tc.tiff\"\n",
    "psfc_tiff = f\"{dir_path}/psfc.tiff\"\n",
    "rh_tiff = f\"{dir_path}/rh.tiff\"\n",
    "rainc_tiff = f\"{dir_path}/rainc.tiff\"\n",
    "rainsh_tiff = f\"{dir_path}/rainsh.tiff\"\n",
    "rainnc_tiff = f\"{dir_path}/rainnc.tiff\"\n",
    "\n",
    "_tc = tc[0][0].rio.set_spatial_dims(x_dim=\"lon\", y_dim=\"lat\")\n",
    "_tc.rio.crs\n",
    "_tc.rio.write_crs(\"epsg:4326\", inplace=True)\n",
    "_tc.rio.to_raster(tc_tiff)\n",
    "\n",
    "_psfc = psfc[0][0].rio.set_spatial_dims(x_dim=\"lon\", y_dim=\"lat\")\n",
    "_psfc.rio.crs\n",
    "_psfc.rio.write_crs(\"epsg:4326\", inplace=True)\n",
    "_psfc.rio.to_raster(psfc_tiff)\n",
    "\n",
    "_rh = rh[0][0].rio.set_spatial_dims(x_dim=\"lon\", y_dim=\"lat\")\n",
    "_rh.rio.crs\n",
    "_rh.rio.write_crs(\"epsg:4326\", inplace=True)\n",
    "_rh.rio.to_raster(rh_tiff)\n",
    "\n",
    "# _rainc = rainc[0][0].rio.set_spatial_dims(x_dim=\"lon\", y_dim=\"lat\")\n",
    "# _rainc.rio.crs\n",
    "# _rainc.rio.write_crs(\"epsg:4326\", inplace=True)\n",
    "# _rainc.rio.to_raster(rainc_tiff)\n",
    "\n",
    "# _rainsh = rainsh[0][0].rio.set_spatial_dims(x_dim=\"lon\", y_dim=\"lat\")\n",
    "# _rainsh.rio.crs\n",
    "# _rainsh.rio.write_crs(\"epsg:4326\", inplace=True)\n",
    "# _rainsh.rio.to_raster(rainsh_tiff)\n",
    "\n",
    "# _rainnc = rainnc[0][0].rio.set_spatial_dims(x_dim=\"lon\", y_dim=\"lat\")\n",
    "# _rainnc.rio.crs\n",
    "# _rainnc.rio.write_crs(\"epsg:4326\", inplace=True)\n",
    "# _rainnc.rio.to_raster(rainnc_tiff)"
   ]
  },
  {
   "cell_type": "code",
   "execution_count": 35,
   "metadata": {},
   "outputs": [
    {
     "data": {
      "text/plain": [
       "CompletedProcess(args=['gdaldem.exe', 'color-relief', 'storage/20231028/tc.tiff', 'color2.txt', 'storage/20231028/tc_rgb.tiff'], returncode=0)"
      ]
     },
     "execution_count": 35,
     "metadata": {},
     "output_type": "execute_result"
    }
   ],
   "source": [
    "# convert gray tiff to rgb tiff\n",
    "tc_rgb_tiff = f\"{dir_path}/tc_rgb.tiff\"\n",
    "psfc_rgb_tiff = f\"{dir_path}/psfc_rgb.tiff\"\n",
    "rh_rgb_tiff = f\"{dir_path}/rh_rgb.tiff\"\n",
    "rainc_rgb_tiff = f\"{dir_path}/rainc_rgb.tiff\"\n",
    "rainsh_rgb_tiff = f\"{dir_path}/rainsh_rgb.tiff\"\n",
    "rainnc_rgb_tiff = f\"{dir_path}/rainnc_rgb.tiff\"\n",
    "\n",
    "subprocess.run([r\"gdaldem.exe\", \"color-relief\", tc_tiff, \"tc_color.txt\", tc_rgb_tiff])\n",
    "# subprocess.run([r\"gdaldem.exe\", \"color-relief\", psfc_tiff, \"color.txt\", psfc_rgb_tiff])\n",
    "# subprocess.run([r\"gdaldem.exe\", \"color-relief\", rh_tiff, \"color.txt\", rh_rgb_tiff])\n",
    "# subprocess.run([r\"gdaldem.exe\", \"color-relief\", rainc_tiff, \"color.txt\", rainc_rgb_tiff])\n",
    "# subprocess.run([r\"gdaldem.exe\", \"color-relief\", rainsh_tiff, \"color.txt\", rainsh_rgb_tiff])\n",
    "# subprocess.run([r\"gdaldem.exe\", \"color-relief\", rainnc_tiff, \"color.txt\", rainnc_rgb_tiff])"
   ]
  },
  {
   "cell_type": "code",
   "execution_count": 51,
   "metadata": {},
   "outputs": [
    {
     "ename": "TypeError",
     "evalue": "'dict' object is not callable",
     "output_type": "error",
     "traceback": [
      "\u001b[1;31m---------------------------------------------------------------------------\u001b[0m",
      "\u001b[1;31mTypeError\u001b[0m                                 Traceback (most recent call last)",
      "\u001b[1;32md:\\0Me\\Kuliah\\Magang BMKG\\tes-netcdf\\f.ipynb Cell 11\u001b[0m line \u001b[0;36m1\n\u001b[0;32m      <a href='vscode-notebook-cell:/d%3A/0Me/Kuliah/Magang%20BMKG/tes-netcdf/f.ipynb#X11sZmlsZQ%3D%3D?line=6'>7</a>\u001b[0m tc_img \u001b[39m=\u001b[39m ImageOps\u001b[39m.\u001b[39mflip(Image\u001b[39m.\u001b[39mopen(tc_rgb_tiff))\n\u001b[0;32m      <a href='vscode-notebook-cell:/d%3A/0Me/Kuliah/Magang%20BMKG/tes-netcdf/f.ipynb#X11sZmlsZQ%3D%3D?line=7'>8</a>\u001b[0m \u001b[39m# tc_img = tc_img.save(tc_rgb_tiff)\u001b[39;00m\n\u001b[0;32m      <a href='vscode-notebook-cell:/d%3A/0Me/Kuliah/Magang%20BMKG/tes-netcdf/f.ipynb#X11sZmlsZQ%3D%3D?line=8'>9</a>\u001b[0m \u001b[39m# tc_img = Image.open(tc_rgb_tiff)\u001b[39;00m\n\u001b[1;32m---> <a href='vscode-notebook-cell:/d%3A/0Me/Kuliah/Magang%20BMKG/tes-netcdf/f.ipynb#X11sZmlsZQ%3D%3D?line=9'>10</a>\u001b[0m Image\u001b[39m.\u001b[39;49mSAVE(tc_rgb_tiff)\n\u001b[0;32m     <a href='vscode-notebook-cell:/d%3A/0Me/Kuliah/Magang%20BMKG/tes-netcdf/f.ipynb#X11sZmlsZQ%3D%3D?line=10'>11</a>\u001b[0m display(tc_img)\n\u001b[0;32m     <a href='vscode-notebook-cell:/d%3A/0Me/Kuliah/Magang%20BMKG/tes-netcdf/f.ipynb#X11sZmlsZQ%3D%3D?line=11'>12</a>\u001b[0m \u001b[39m# rasterio.plot.show(tc_img)\u001b[39;00m\n\u001b[0;32m     <a href='vscode-notebook-cell:/d%3A/0Me/Kuliah/Magang%20BMKG/tes-netcdf/f.ipynb#X11sZmlsZQ%3D%3D?line=12'>13</a>\u001b[0m \u001b[39m# tc_img.show()\u001b[39;00m\n\u001b[0;32m     <a href='vscode-notebook-cell:/d%3A/0Me/Kuliah/Magang%20BMKG/tes-netcdf/f.ipynb#X11sZmlsZQ%3D%3D?line=13'>14</a>\u001b[0m \n\u001b[1;32m   (...)\u001b[0m\n\u001b[0;32m     <a href='vscode-notebook-cell:/d%3A/0Me/Kuliah/Magang%20BMKG/tes-netcdf/f.ipynb#X11sZmlsZQ%3D%3D?line=31'>32</a>\u001b[0m \u001b[39m# rasterio.plot.show(rainnc_img)\u001b[39;00m\n\u001b[0;32m     <a href='vscode-notebook-cell:/d%3A/0Me/Kuliah/Magang%20BMKG/tes-netcdf/f.ipynb#X11sZmlsZQ%3D%3D?line=32'>33</a>\u001b[0m \u001b[39m# rainnc_img.close()\u001b[39;00m\n",
      "\u001b[1;31mTypeError\u001b[0m: 'dict' object is not callable"
     ]
    }
   ],
   "source": [
    "# tc_img = rasterio.open(tc_rgb_tiff)\n",
    "# rasterio.plot.show(tc_img, )\n",
    "# tc_img.close()\n",
    "\n",
    "tc_img = ImageOps.flip(Image.open(tc_rgb_tiff))\n",
    "tc_img = tc_img.save(tc_rgb_tiff)\n",
    "tc_img = Image.open(tc_rgb_tiff)\n",
    "display(tc_img)\n",
    "# rasterio.plot.show(tc_img)\n",
    "# tc_img.show()\n",
    "\n",
    "# psfc_img = rasterio.open(psfc_rgb_tiff)\n",
    "# rasterio.plot.show(psfc_img)\n",
    "# psfc_img.close()\n",
    "\n",
    "# rh_img = rasterio.open(rh_rgb_tiff)\n",
    "# rasterio.plot.show(rh_img)\n",
    "# rh_img.close()\n",
    "\n",
    "# rainc_img = rasterio.open(rainc_rgb_tiff)\n",
    "# rasterio.plot.show(rainc_img)\n",
    "# rainc_img.close()\n",
    "\n",
    "# rainsh_img = rasterio.open(rainsh_rgb_tiff)\n",
    "# rasterio.plot.show(rainsh_img)\n",
    "# rainsh_img.close()\n",
    "\n",
    "# rainnc_img = rasterio.open(rainnc_rgb_tiff)\n",
    "# rasterio.plot.show(rainnc_img)\n",
    "# rainnc_img.close()"
   ]
  },
  {
   "cell_type": "code",
   "execution_count": 7,
   "metadata": {},
   "outputs": [
    {
     "data": {
      "text/plain": [
       "CompletedProcess(args=['python', 'C:/Users/falbas/miniconda3/Scripts/gdal2tiles.py', '--zoom=5-7', 'storage/20231028/temp_rgb.tiff', 'tiles/baselayer2'], returncode=0)"
      ]
     },
     "execution_count": 7,
     "metadata": {},
     "output_type": "execute_result"
    }
   ],
   "source": [
    "subprocess.run([\"python\", \"C:/Users/falbas/miniconda3/Scripts/gdal2tiles.py\", \"--zoom=5-7\", f\"{dir_path}/temp_rgb.tiff\", \"tiles/baselayer2\"])"
   ]
  }
 ],
 "metadata": {
  "kernelspec": {
   "display_name": "base",
   "language": "python",
   "name": "python3"
  },
  "language_info": {
   "codemirror_mode": {
    "name": "ipython",
    "version": 3
   },
   "file_extension": ".py",
   "mimetype": "text/x-python",
   "name": "python",
   "nbconvert_exporter": "python",
   "pygments_lexer": "ipython3",
   "version": "3.11.5"
  }
 },
 "nbformat": 4,
 "nbformat_minor": 2
}
